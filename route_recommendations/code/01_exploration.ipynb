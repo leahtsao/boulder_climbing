{
 "cells": [
  {
   "cell_type": "markdown",
   "id": "5d53427e",
   "metadata": {},
   "source": [
    "# Exploration\n",
    "\n",
    "The dataset I'm using came from Mountain Project. Filters include:\n",
    "\n",
    "- Location: Boulder Canyon\n",
    "- Type: \n",
    "    - Rock\n",
    "    - 5.0 to 5.15d (start of technical climbing grade to the max in the grade)\n",
    "    - Trad, Sport, and Toprope\n",
    "- No quality or pitch filters"
   ]
  },
  {
   "cell_type": "code",
   "execution_count": 1,
   "id": "dc281572",
   "metadata": {},
   "outputs": [],
   "source": [
    "# Import modules\n",
    "import os, sys\n",
    "import numpy as np\n",
    "import pandas as pd\n",
    "import seaborn as sns\n",
    "import matplotlib.pyplot as plt\n",
    "\n",
    "# Get path\n",
    "data_dir = os.path.realpath('../data/')"
   ]
  },
  {
   "cell_type": "markdown",
   "id": "afd5704b",
   "metadata": {},
   "source": [
    "## Data Cleaning\n",
    "\n",
    "I'll start by getting an overview the data and making it more usable."
   ]
  },
  {
   "cell_type": "code",
   "execution_count": 2,
   "id": "de0acbf6",
   "metadata": {},
   "outputs": [
    {
     "name": "stdout",
     "output_type": "stream",
     "text": [
      "Frame shape: (945, 11)\n"
     ]
    },
    {
     "data": {
      "text/html": [
       "<div>\n",
       "<style scoped>\n",
       "    .dataframe tbody tr th:only-of-type {\n",
       "        vertical-align: middle;\n",
       "    }\n",
       "\n",
       "    .dataframe tbody tr th {\n",
       "        vertical-align: top;\n",
       "    }\n",
       "\n",
       "    .dataframe thead th {\n",
       "        text-align: right;\n",
       "    }\n",
       "</style>\n",
       "<table border=\"1\" class=\"dataframe\">\n",
       "  <thead>\n",
       "    <tr style=\"text-align: right;\">\n",
       "      <th></th>\n",
       "      <th>Route</th>\n",
       "      <th>Location</th>\n",
       "      <th>URL</th>\n",
       "      <th>Avg Stars</th>\n",
       "      <th>Your Stars</th>\n",
       "      <th>Route Type</th>\n",
       "      <th>Rating</th>\n",
       "      <th>Pitches</th>\n",
       "      <th>Length</th>\n",
       "      <th>Area Latitude</th>\n",
       "      <th>Area Longitude</th>\n",
       "    </tr>\n",
       "  </thead>\n",
       "  <tbody>\n",
       "    <tr>\n",
       "      <th>943</th>\n",
       "      <td>Serps Up</td>\n",
       "      <td>Serpent's Den &gt; Boulder Canyon &gt; Boulder &gt; Col...</td>\n",
       "      <td>https://www.mountainproject.com/route/12226557...</td>\n",
       "      <td>3.0</td>\n",
       "      <td>-1</td>\n",
       "      <td>Sport</td>\n",
       "      <td>5.13b</td>\n",
       "      <td>1</td>\n",
       "      <td>25.0</td>\n",
       "      <td>40.00239</td>\n",
       "      <td>-105.41014</td>\n",
       "    </tr>\n",
       "    <tr>\n",
       "      <th>944</th>\n",
       "      <td>Aqueduct</td>\n",
       "      <td>Aqueduct Outcrop &gt; Boulder Canyon &gt; Boulder &gt; ...</td>\n",
       "      <td>https://www.mountainproject.com/route/12246443...</td>\n",
       "      <td>2.0</td>\n",
       "      <td>-1</td>\n",
       "      <td>Sport</td>\n",
       "      <td>5.12a</td>\n",
       "      <td>1</td>\n",
       "      <td>50.0</td>\n",
       "      <td>39.97527</td>\n",
       "      <td>-105.46080</td>\n",
       "    </tr>\n",
       "  </tbody>\n",
       "</table>\n",
       "</div>"
      ],
      "text/plain": [
       "        Route                                           Location  \\\n",
       "943  Serps Up  Serpent's Den > Boulder Canyon > Boulder > Col...   \n",
       "944  Aqueduct  Aqueduct Outcrop > Boulder Canyon > Boulder > ...   \n",
       "\n",
       "                                                   URL  Avg Stars  Your Stars  \\\n",
       "943  https://www.mountainproject.com/route/12226557...        3.0          -1   \n",
       "944  https://www.mountainproject.com/route/12246443...        2.0          -1   \n",
       "\n",
       "    Route Type Rating  Pitches  Length  Area Latitude  Area Longitude  \n",
       "943      Sport  5.13b        1    25.0       40.00239      -105.41014  \n",
       "944      Sport  5.12a        1    50.0       39.97527      -105.46080  "
      ]
     },
     "execution_count": 2,
     "metadata": {},
     "output_type": "execute_result"
    }
   ],
   "source": [
    "# Upload data\n",
    "df_mp = pd.read_csv(data_dir + '/boulder_sport_50_515d.csv', header=0,\n",
    "                    sep=',')\n",
    "print('Frame shape: ' + str(df_mp.shape))\n",
    "df_mp.tail(2)"
   ]
  },
  {
   "cell_type": "code",
   "execution_count": 3,
   "id": "d4dad340",
   "metadata": {},
   "outputs": [
    {
     "data": {
      "text/plain": [
       "Route              object\n",
       "Location           object\n",
       "URL                object\n",
       "Avg Stars         float64\n",
       "Your Stars          int64\n",
       "Route Type         object\n",
       "Rating             object\n",
       "Pitches             int64\n",
       "Length            float64\n",
       "Area Latitude     float64\n",
       "Area Longitude    float64\n",
       "dtype: object"
      ]
     },
     "execution_count": 3,
     "metadata": {},
     "output_type": "execute_result"
    }
   ],
   "source": [
    "# Data types\n",
    "df_mp.dtypes"
   ]
  },
  {
   "cell_type": "markdown",
   "id": "6eef4038",
   "metadata": {},
   "source": [
    "Variables include route name, location, Mountain Project URL, average stars, my ratings, route type, rating, pitches, length, and geographic information. \n",
    "\n",
    "There are a mix of objects (strings), floats, and integers. Something to note is that \"Rating\" is coming out as an object when it can be a float. This is a transformation I'll do later on.\n",
    "\n",
    "I'll do some data cleaning to only include useful variables and make variable names easier to work with. "
   ]
  },
  {
   "cell_type": "code",
   "execution_count": 4,
   "id": "29f5efde",
   "metadata": {},
   "outputs": [
    {
     "data": {
      "text/html": [
       "<div>\n",
       "<style scoped>\n",
       "    .dataframe tbody tr th:only-of-type {\n",
       "        vertical-align: middle;\n",
       "    }\n",
       "\n",
       "    .dataframe tbody tr th {\n",
       "        vertical-align: top;\n",
       "    }\n",
       "\n",
       "    .dataframe thead th {\n",
       "        text-align: right;\n",
       "    }\n",
       "</style>\n",
       "<table border=\"1\" class=\"dataframe\">\n",
       "  <thead>\n",
       "    <tr style=\"text-align: right;\">\n",
       "      <th></th>\n",
       "      <th>route</th>\n",
       "      <th>location</th>\n",
       "      <th>url</th>\n",
       "      <th>avg_stars</th>\n",
       "      <th>route_type</th>\n",
       "      <th>rating</th>\n",
       "      <th>pitches</th>\n",
       "      <th>length</th>\n",
       "      <th>area_latitude</th>\n",
       "      <th>area_longitude</th>\n",
       "    </tr>\n",
       "  </thead>\n",
       "  <tbody>\n",
       "    <tr>\n",
       "      <th>943</th>\n",
       "      <td>Serps Up</td>\n",
       "      <td>Serpent's Den &gt; Boulder Canyon &gt; Boulder &gt; Col...</td>\n",
       "      <td>https://www.mountainproject.com/route/12226557...</td>\n",
       "      <td>3.0</td>\n",
       "      <td>Sport</td>\n",
       "      <td>5.13b</td>\n",
       "      <td>1</td>\n",
       "      <td>25.0</td>\n",
       "      <td>40.00239</td>\n",
       "      <td>-105.41014</td>\n",
       "    </tr>\n",
       "    <tr>\n",
       "      <th>944</th>\n",
       "      <td>Aqueduct</td>\n",
       "      <td>Aqueduct Outcrop &gt; Boulder Canyon &gt; Boulder &gt; ...</td>\n",
       "      <td>https://www.mountainproject.com/route/12246443...</td>\n",
       "      <td>2.0</td>\n",
       "      <td>Sport</td>\n",
       "      <td>5.12a</td>\n",
       "      <td>1</td>\n",
       "      <td>50.0</td>\n",
       "      <td>39.97527</td>\n",
       "      <td>-105.46080</td>\n",
       "    </tr>\n",
       "  </tbody>\n",
       "</table>\n",
       "</div>"
      ],
      "text/plain": [
       "        route                                           location  \\\n",
       "943  Serps Up  Serpent's Den > Boulder Canyon > Boulder > Col...   \n",
       "944  Aqueduct  Aqueduct Outcrop > Boulder Canyon > Boulder > ...   \n",
       "\n",
       "                                                   url  avg_stars route_type  \\\n",
       "943  https://www.mountainproject.com/route/12226557...        3.0      Sport   \n",
       "944  https://www.mountainproject.com/route/12246443...        2.0      Sport   \n",
       "\n",
       "    rating  pitches  length  area_latitude  area_longitude  \n",
       "943  5.13b        1    25.0       40.00239      -105.41014  \n",
       "944  5.12a        1    50.0       39.97527      -105.46080  "
      ]
     },
     "execution_count": 4,
     "metadata": {},
     "output_type": "execute_result"
    }
   ],
   "source": [
    "# Copy original frame\n",
    "df_copy = df_mp.copy()\n",
    "\n",
    "# Simplify variable names\n",
    "df_copy.columns = [x.lower().replace(' ', '_') for x in list(df_copy.columns)]\n",
    "\n",
    "# Remove my ratings (your_stars)\n",
    "df_copy = df_copy.drop('your_stars', 1)\n",
    "df_copy.tail(2)"
   ]
  },
  {
   "cell_type": "markdown",
   "id": "a4d61622",
   "metadata": {},
   "source": [
    "I'll check for null and null replacement values next. Based on the \"Your Stars\" rating from the original frame, it looks like -1 is used as a replacement value."
   ]
  },
  {
   "cell_type": "code",
   "execution_count": 5,
   "id": "08f51d9a",
   "metadata": {},
   "outputs": [
    {
     "name": "stdout",
     "output_type": "stream",
     "text": [
      "avg_stars: 7 rows with -1\n",
      "pitches: 1 rows with -1\n"
     ]
    }
   ],
   "source": [
    "# Loop through columns to find -1\n",
    "for curr_col in list(df_copy.columns):\n",
    "    \n",
    "    search_null = df_copy[df_copy[curr_col] == -1].shape[0]\n",
    "    \n",
    "    if search_null != 0:\n",
    "        print(f'{curr_col}: {search_null} rows with -1' )"
   ]
  },
  {
   "cell_type": "markdown",
   "id": "667510a4",
   "metadata": {},
   "source": [
    "I double checked and did see 7 rows with -1 in \"avg_stars\" and 1 row with -1 in \"pitches.\" It's not possible to have negative stars or pitches, so these must be value substitutes. I'll change these to nulls to not confuse nulls from actual values."
   ]
  },
  {
   "cell_type": "code",
   "execution_count": 6,
   "id": "d5f1d093",
   "metadata": {},
   "outputs": [],
   "source": [
    "# Replace -1 with null\n",
    "df_copy = df_copy.replace(to_replace=-1, value=np.nan)  # np.nan for numerical"
   ]
  },
  {
   "cell_type": "code",
   "execution_count": 7,
   "id": "1a7fd7b6",
   "metadata": {},
   "outputs": [
    {
     "data": {
      "text/plain": [
       "route               0\n",
       "location            0\n",
       "url                 0\n",
       "avg_stars           7\n",
       "route_type          0\n",
       "rating              0\n",
       "pitches             1\n",
       "length            197\n",
       "area_latitude       0\n",
       "area_longitude      0\n",
       "dtype: int64"
      ]
     },
     "execution_count": 7,
     "metadata": {},
     "output_type": "execute_result"
    }
   ],
   "source": [
    "# Count remaining null values d\n",
    "df_copy.isna().sum()"
   ]
  },
  {
   "cell_type": "markdown",
   "id": "490cf45e",
   "metadata": {},
   "source": [
    "In addition to the 8 placeholder values that were changed to nulls, there are 197 missing length values.\n",
    "\n",
    "The next thing I want to do here is to change ratings from objects to floats. All of the climbs are in the 5.0-5.15 range because I'm looking at technical climbing. I'll remove the 5 and turn the string portion of the rating (e.g. a, b, c, d) to numbers."
   ]
  },
  {
   "cell_type": "code",
   "execution_count": 15,
   "id": "121048e6",
   "metadata": {},
   "outputs": [
    {
     "data": {
      "text/plain": [
       "['10',\n",
       " '10 X',\n",
       " '10+',\n",
       " '10+ PG13',\n",
       " '10+ R',\n",
       " '10-',\n",
       " '10- R',\n",
       " '10a',\n",
       " '10a A0',\n",
       " '10a/b',\n",
       " '10b',\n",
       " '10b PG13',\n",
       " '10b/c',\n",
       " '10b/c PG13',\n",
       " '10c',\n",
       " '10c PG13',\n",
       " '10c R',\n",
       " '10c/d',\n",
       " '10d',\n",
       " '10d PG13',\n",
       " '11',\n",
       " '11 PG13',\n",
       " '11+',\n",
       " '11-',\n",
       " '11a',\n",
       " '11a R',\n",
       " '11a/b',\n",
       " '11b',\n",
       " '11b PG13',\n",
       " '11b/c',\n",
       " '11b/c PG13',\n",
       " '11c',\n",
       " '11c R',\n",
       " '11c/d',\n",
       " '11d',\n",
       " '11d PG13',\n",
       " '12',\n",
       " '12+',\n",
       " '12-',\n",
       " '12a',\n",
       " '12a/b',\n",
       " '12a/b A0',\n",
       " '12a/b R',\n",
       " '12b',\n",
       " '12b/c',\n",
       " '12c',\n",
       " '12c PG13',\n",
       " '12c/d',\n",
       " '12d',\n",
       " '12d V6',\n",
       " '12d V7',\n",
       " '13',\n",
       " '13-',\n",
       " '13a',\n",
       " '13a/b',\n",
       " '13b',\n",
       " '13b/c',\n",
       " '13c',\n",
       " '13c V10',\n",
       " '13d',\n",
       " '14a',\n",
       " '14c',\n",
       " '3',\n",
       " '4',\n",
       " '5',\n",
       " '6',\n",
       " '7',\n",
       " '7+',\n",
       " '8',\n",
       " '8+',\n",
       " '8-',\n",
       " '9',\n",
       " '9 R',\n",
       " '9+',\n",
       " '9+ R',\n",
       " '9-',\n",
       " '9- PG13']"
      ]
     },
     "execution_count": 15,
     "metadata": {},
     "output_type": "execute_result"
    }
   ],
   "source": [
    "# Get climbing ratings\n",
    "# TODO: clean ratings\n",
    "[x.replace('5.', '') for x in \n",
    " list(sorted(list(set(list(df_copy['rating'])))))]"
   ]
  },
  {
   "cell_type": "code",
   "execution_count": 11,
   "id": "0bdabb45",
   "metadata": {},
   "outputs": [
    {
     "data": {
      "text/html": [
       "<div>\n",
       "<style scoped>\n",
       "    .dataframe tbody tr th:only-of-type {\n",
       "        vertical-align: middle;\n",
       "    }\n",
       "\n",
       "    .dataframe tbody tr th {\n",
       "        vertical-align: top;\n",
       "    }\n",
       "\n",
       "    .dataframe thead th {\n",
       "        text-align: right;\n",
       "    }\n",
       "</style>\n",
       "<table border=\"1\" class=\"dataframe\">\n",
       "  <thead>\n",
       "    <tr style=\"text-align: right;\">\n",
       "      <th></th>\n",
       "      <th>rating</th>\n",
       "      <th>rating_float</th>\n",
       "    </tr>\n",
       "  </thead>\n",
       "  <tbody>\n",
       "    <tr>\n",
       "      <th>485</th>\n",
       "      <td>5.10+</td>\n",
       "      <td>10+</td>\n",
       "    </tr>\n",
       "    <tr>\n",
       "      <th>84</th>\n",
       "      <td>5.8</td>\n",
       "      <td>8</td>\n",
       "    </tr>\n",
       "    <tr>\n",
       "      <th>524</th>\n",
       "      <td>5.11</td>\n",
       "      <td>11</td>\n",
       "    </tr>\n",
       "    <tr>\n",
       "      <th>223</th>\n",
       "      <td>5.10c</td>\n",
       "      <td>10c</td>\n",
       "    </tr>\n",
       "    <tr>\n",
       "      <th>493</th>\n",
       "      <td>5.12a</td>\n",
       "      <td>12a</td>\n",
       "    </tr>\n",
       "    <tr>\n",
       "      <th>701</th>\n",
       "      <td>5.11c</td>\n",
       "      <td>11c</td>\n",
       "    </tr>\n",
       "    <tr>\n",
       "      <th>78</th>\n",
       "      <td>5.13a/b</td>\n",
       "      <td>13a/b</td>\n",
       "    </tr>\n",
       "    <tr>\n",
       "      <th>746</th>\n",
       "      <td>5.10b</td>\n",
       "      <td>10b</td>\n",
       "    </tr>\n",
       "    <tr>\n",
       "      <th>245</th>\n",
       "      <td>5.9+</td>\n",
       "      <td>9+</td>\n",
       "    </tr>\n",
       "    <tr>\n",
       "      <th>88</th>\n",
       "      <td>5.9</td>\n",
       "      <td>9</td>\n",
       "    </tr>\n",
       "  </tbody>\n",
       "</table>\n",
       "</div>"
      ],
      "text/plain": [
       "      rating rating_float\n",
       "485    5.10+          10+\n",
       "84       5.8            8\n",
       "524     5.11           11\n",
       "223    5.10c          10c\n",
       "493    5.12a          12a\n",
       "701    5.11c          11c\n",
       "78   5.13a/b        13a/b\n",
       "746    5.10b          10b\n",
       "245     5.9+           9+\n",
       "88       5.9            9"
      ]
     },
     "execution_count": 11,
     "metadata": {},
     "output_type": "execute_result"
    }
   ],
   "source": [
    "# Climbing rating transformation\n",
    "df_copy['rating_float'] = df_copy['rating'].apply(\n",
    "    lambda x: x.replace('5.', '')\n",
    ")\n",
    "df_copy[['rating', 'rating_float']].sample(10)"
   ]
  },
  {
   "cell_type": "markdown",
   "id": "375985d1",
   "metadata": {},
   "source": [
    "## Data Exploration\n",
    "\n",
    "There are string, float, and integer variables. I'll start by understanding the numerical attributes."
   ]
  },
  {
   "cell_type": "code",
   "execution_count": 8,
   "id": "11680375",
   "metadata": {},
   "outputs": [
    {
     "data": {
      "text/html": [
       "<div>\n",
       "<style scoped>\n",
       "    .dataframe tbody tr th:only-of-type {\n",
       "        vertical-align: middle;\n",
       "    }\n",
       "\n",
       "    .dataframe tbody tr th {\n",
       "        vertical-align: top;\n",
       "    }\n",
       "\n",
       "    .dataframe thead th {\n",
       "        text-align: right;\n",
       "    }\n",
       "</style>\n",
       "<table border=\"1\" class=\"dataframe\">\n",
       "  <thead>\n",
       "    <tr style=\"text-align: right;\">\n",
       "      <th></th>\n",
       "      <th>avg_stars</th>\n",
       "      <th>pitches</th>\n",
       "      <th>length</th>\n",
       "      <th>area_latitude</th>\n",
       "      <th>area_longitude</th>\n",
       "    </tr>\n",
       "  </thead>\n",
       "  <tbody>\n",
       "    <tr>\n",
       "      <th>count</th>\n",
       "      <td>938.000000</td>\n",
       "      <td>944.000000</td>\n",
       "      <td>748.000000</td>\n",
       "      <td>945.000000</td>\n",
       "      <td>945.000000</td>\n",
       "    </tr>\n",
       "    <tr>\n",
       "      <th>mean</th>\n",
       "      <td>2.149893</td>\n",
       "      <td>1.090042</td>\n",
       "      <td>72.462567</td>\n",
       "      <td>39.996613</td>\n",
       "      <td>-105.415008</td>\n",
       "    </tr>\n",
       "    <tr>\n",
       "      <th>std</th>\n",
       "      <td>0.667579</td>\n",
       "      <td>0.364586</td>\n",
       "      <td>38.805145</td>\n",
       "      <td>0.010475</td>\n",
       "      <td>0.023808</td>\n",
       "    </tr>\n",
       "    <tr>\n",
       "      <th>min</th>\n",
       "      <td>0.000000</td>\n",
       "      <td>1.000000</td>\n",
       "      <td>18.000000</td>\n",
       "      <td>39.972070</td>\n",
       "      <td>-105.464800</td>\n",
       "    </tr>\n",
       "    <tr>\n",
       "      <th>25%</th>\n",
       "      <td>1.700000</td>\n",
       "      <td>1.000000</td>\n",
       "      <td>50.000000</td>\n",
       "      <td>39.993700</td>\n",
       "      <td>-105.418100</td>\n",
       "    </tr>\n",
       "    <tr>\n",
       "      <th>50%</th>\n",
       "      <td>2.000000</td>\n",
       "      <td>1.000000</td>\n",
       "      <td>65.000000</td>\n",
       "      <td>40.000100</td>\n",
       "      <td>-105.412400</td>\n",
       "    </tr>\n",
       "    <tr>\n",
       "      <th>75%</th>\n",
       "      <td>2.600000</td>\n",
       "      <td>1.000000</td>\n",
       "      <td>85.000000</td>\n",
       "      <td>40.003500</td>\n",
       "      <td>-105.397400</td>\n",
       "    </tr>\n",
       "    <tr>\n",
       "      <th>max</th>\n",
       "      <td>4.000000</td>\n",
       "      <td>4.000000</td>\n",
       "      <td>370.000000</td>\n",
       "      <td>40.013700</td>\n",
       "      <td>-105.313300</td>\n",
       "    </tr>\n",
       "  </tbody>\n",
       "</table>\n",
       "</div>"
      ],
      "text/plain": [
       "        avg_stars     pitches      length  area_latitude  area_longitude\n",
       "count  938.000000  944.000000  748.000000     945.000000      945.000000\n",
       "mean     2.149893    1.090042   72.462567      39.996613     -105.415008\n",
       "std      0.667579    0.364586   38.805145       0.010475        0.023808\n",
       "min      0.000000    1.000000   18.000000      39.972070     -105.464800\n",
       "25%      1.700000    1.000000   50.000000      39.993700     -105.418100\n",
       "50%      2.000000    1.000000   65.000000      40.000100     -105.412400\n",
       "75%      2.600000    1.000000   85.000000      40.003500     -105.397400\n",
       "max      4.000000    4.000000  370.000000      40.013700     -105.313300"
      ]
     },
     "execution_count": 8,
     "metadata": {},
     "output_type": "execute_result"
    }
   ],
   "source": [
    "# Check for nulls\n",
    "df_copy.describe()"
   ]
  },
  {
   "cell_type": "markdown",
   "id": "1d53f6a5",
   "metadata": {},
   "source": [
    "TODO: \n",
    "- Go back and change ratings to numerical\n",
    "- write about it here \n",
    "\n",
    "- avg_stars: max = 4"
   ]
  }
 ],
 "metadata": {
  "kernelspec": {
   "display_name": "Python 3",
   "language": "python",
   "name": "python3"
  },
  "language_info": {
   "codemirror_mode": {
    "name": "ipython",
    "version": 3
   },
   "file_extension": ".py",
   "mimetype": "text/x-python",
   "name": "python",
   "nbconvert_exporter": "python",
   "pygments_lexer": "ipython3",
   "version": "3.9.5"
  }
 },
 "nbformat": 4,
 "nbformat_minor": 5
}
