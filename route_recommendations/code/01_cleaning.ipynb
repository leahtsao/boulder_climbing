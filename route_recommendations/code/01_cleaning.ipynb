{
 "cells": [
  {
   "cell_type": "markdown",
   "id": "5d53427e",
   "metadata": {},
   "source": [
    "# Exploration\n",
    "\n",
    "The dataset I'm using came from Mountain Project. Filters include:\n",
    "\n",
    "- Location: Boulder Canyon\n",
    "- Type: \n",
    "    - Rock\n",
    "    - 5.0 to 5.15d (start of technical climbing grade to the max in the grade)\n",
    "    - Trad, Sport, and Toprope\n",
    "- No quality or pitch filters"
   ]
  },
  {
   "cell_type": "code",
   "execution_count": 1,
   "id": "dc281572",
   "metadata": {},
   "outputs": [],
   "source": [
    "# Import modules\n",
    "import os, sys, re\n",
    "import numpy as np\n",
    "import pandas as pd\n",
    "import seaborn as sns\n",
    "import matplotlib.pyplot as plt\n",
    "\n",
    "# Get path\n",
    "data_dir = os.path.realpath('../data/')"
   ]
  },
  {
   "cell_type": "markdown",
   "id": "afd5704b",
   "metadata": {},
   "source": [
    "## Data Cleaning\n",
    "\n",
    "I'll start by getting an overview the data and making it more usable."
   ]
  },
  {
   "cell_type": "code",
   "execution_count": 2,
   "id": "de0acbf6",
   "metadata": {},
   "outputs": [
    {
     "name": "stdout",
     "output_type": "stream",
     "text": [
      "Frame shape: (945, 11)\n"
     ]
    },
    {
     "data": {
      "text/html": [
       "<div>\n",
       "<style scoped>\n",
       "    .dataframe tbody tr th:only-of-type {\n",
       "        vertical-align: middle;\n",
       "    }\n",
       "\n",
       "    .dataframe tbody tr th {\n",
       "        vertical-align: top;\n",
       "    }\n",
       "\n",
       "    .dataframe thead th {\n",
       "        text-align: right;\n",
       "    }\n",
       "</style>\n",
       "<table border=\"1\" class=\"dataframe\">\n",
       "  <thead>\n",
       "    <tr style=\"text-align: right;\">\n",
       "      <th></th>\n",
       "      <th>Route</th>\n",
       "      <th>Location</th>\n",
       "      <th>URL</th>\n",
       "      <th>Avg Stars</th>\n",
       "      <th>Your Stars</th>\n",
       "      <th>Route Type</th>\n",
       "      <th>Rating</th>\n",
       "      <th>Pitches</th>\n",
       "      <th>Length</th>\n",
       "      <th>Area Latitude</th>\n",
       "      <th>Area Longitude</th>\n",
       "    </tr>\n",
       "  </thead>\n",
       "  <tbody>\n",
       "    <tr>\n",
       "      <th>943</th>\n",
       "      <td>Serps Up</td>\n",
       "      <td>Serpent's Den &gt; Boulder Canyon &gt; Boulder &gt; Col...</td>\n",
       "      <td>https://www.mountainproject.com/route/12226557...</td>\n",
       "      <td>3.0</td>\n",
       "      <td>-1</td>\n",
       "      <td>Sport</td>\n",
       "      <td>5.13b</td>\n",
       "      <td>1</td>\n",
       "      <td>25.0</td>\n",
       "      <td>40.00239</td>\n",
       "      <td>-105.41014</td>\n",
       "    </tr>\n",
       "    <tr>\n",
       "      <th>944</th>\n",
       "      <td>Aqueduct</td>\n",
       "      <td>Aqueduct Outcrop &gt; Boulder Canyon &gt; Boulder &gt; ...</td>\n",
       "      <td>https://www.mountainproject.com/route/12246443...</td>\n",
       "      <td>2.0</td>\n",
       "      <td>-1</td>\n",
       "      <td>Sport</td>\n",
       "      <td>5.12a</td>\n",
       "      <td>1</td>\n",
       "      <td>50.0</td>\n",
       "      <td>39.97527</td>\n",
       "      <td>-105.46080</td>\n",
       "    </tr>\n",
       "  </tbody>\n",
       "</table>\n",
       "</div>"
      ],
      "text/plain": [
       "        Route                                           Location  \\\n",
       "943  Serps Up  Serpent's Den > Boulder Canyon > Boulder > Col...   \n",
       "944  Aqueduct  Aqueduct Outcrop > Boulder Canyon > Boulder > ...   \n",
       "\n",
       "                                                   URL  Avg Stars  Your Stars  \\\n",
       "943  https://www.mountainproject.com/route/12226557...        3.0          -1   \n",
       "944  https://www.mountainproject.com/route/12246443...        2.0          -1   \n",
       "\n",
       "    Route Type Rating  Pitches  Length  Area Latitude  Area Longitude  \n",
       "943      Sport  5.13b        1    25.0       40.00239      -105.41014  \n",
       "944      Sport  5.12a        1    50.0       39.97527      -105.46080  "
      ]
     },
     "execution_count": 2,
     "metadata": {},
     "output_type": "execute_result"
    }
   ],
   "source": [
    "# Upload data\n",
    "df_mp = pd.read_csv(data_dir + '/boulder_sport_50_515d.csv', header=0,\n",
    "                    sep=',')\n",
    "print('Frame shape: ' + str(df_mp.shape))\n",
    "df_mp.tail(2)"
   ]
  },
  {
   "cell_type": "code",
   "execution_count": 3,
   "id": "694bee03",
   "metadata": {},
   "outputs": [
    {
     "data": {
      "text/plain": [
       "Route              object\n",
       "Location           object\n",
       "URL                object\n",
       "Avg Stars         float64\n",
       "Your Stars          int64\n",
       "Route Type         object\n",
       "Rating             object\n",
       "Pitches             int64\n",
       "Length            float64\n",
       "Area Latitude     float64\n",
       "Area Longitude    float64\n",
       "dtype: object"
      ]
     },
     "execution_count": 3,
     "metadata": {},
     "output_type": "execute_result"
    }
   ],
   "source": [
    "df_mp.dtypes"
   ]
  },
  {
   "cell_type": "markdown",
   "id": "6eef4038",
   "metadata": {},
   "source": [
    "Variables include route name, location, Mountain Project URL, average stars, my ratings, route type, rating, pitches, length, and geographic information. \n",
    "\n",
    "There are a mix of objects (strings), floats, and integers. Something to note is that \"Rating\" is coming out as an object when it can be a float. This is a transformation I'll do later on.\n",
    "\n",
    "I'll do some data cleaning to only include useful variables and make variable names easier to work with. "
   ]
  },
  {
   "cell_type": "code",
   "execution_count": 4,
   "id": "29f5efde",
   "metadata": {},
   "outputs": [
    {
     "data": {
      "text/html": [
       "<div>\n",
       "<style scoped>\n",
       "    .dataframe tbody tr th:only-of-type {\n",
       "        vertical-align: middle;\n",
       "    }\n",
       "\n",
       "    .dataframe tbody tr th {\n",
       "        vertical-align: top;\n",
       "    }\n",
       "\n",
       "    .dataframe thead th {\n",
       "        text-align: right;\n",
       "    }\n",
       "</style>\n",
       "<table border=\"1\" class=\"dataframe\">\n",
       "  <thead>\n",
       "    <tr style=\"text-align: right;\">\n",
       "      <th></th>\n",
       "      <th>route</th>\n",
       "      <th>location</th>\n",
       "      <th>url</th>\n",
       "      <th>avg_stars</th>\n",
       "      <th>route_type</th>\n",
       "      <th>rating</th>\n",
       "      <th>pitches</th>\n",
       "      <th>length</th>\n",
       "      <th>area_latitude</th>\n",
       "      <th>area_longitude</th>\n",
       "    </tr>\n",
       "  </thead>\n",
       "  <tbody>\n",
       "    <tr>\n",
       "      <th>943</th>\n",
       "      <td>Serps Up</td>\n",
       "      <td>Serpent's Den &gt; Boulder Canyon &gt; Boulder &gt; Col...</td>\n",
       "      <td>https://www.mountainproject.com/route/12226557...</td>\n",
       "      <td>3.0</td>\n",
       "      <td>Sport</td>\n",
       "      <td>5.13b</td>\n",
       "      <td>1</td>\n",
       "      <td>25.0</td>\n",
       "      <td>40.00239</td>\n",
       "      <td>-105.41014</td>\n",
       "    </tr>\n",
       "    <tr>\n",
       "      <th>944</th>\n",
       "      <td>Aqueduct</td>\n",
       "      <td>Aqueduct Outcrop &gt; Boulder Canyon &gt; Boulder &gt; ...</td>\n",
       "      <td>https://www.mountainproject.com/route/12246443...</td>\n",
       "      <td>2.0</td>\n",
       "      <td>Sport</td>\n",
       "      <td>5.12a</td>\n",
       "      <td>1</td>\n",
       "      <td>50.0</td>\n",
       "      <td>39.97527</td>\n",
       "      <td>-105.46080</td>\n",
       "    </tr>\n",
       "  </tbody>\n",
       "</table>\n",
       "</div>"
      ],
      "text/plain": [
       "        route                                           location  \\\n",
       "943  Serps Up  Serpent's Den > Boulder Canyon > Boulder > Col...   \n",
       "944  Aqueduct  Aqueduct Outcrop > Boulder Canyon > Boulder > ...   \n",
       "\n",
       "                                                   url  avg_stars route_type  \\\n",
       "943  https://www.mountainproject.com/route/12226557...        3.0      Sport   \n",
       "944  https://www.mountainproject.com/route/12246443...        2.0      Sport   \n",
       "\n",
       "    rating  pitches  length  area_latitude  area_longitude  \n",
       "943  5.13b        1    25.0       40.00239      -105.41014  \n",
       "944  5.12a        1    50.0       39.97527      -105.46080  "
      ]
     },
     "execution_count": 4,
     "metadata": {},
     "output_type": "execute_result"
    }
   ],
   "source": [
    "# Copy original frame\n",
    "df_copy = df_mp.copy()\n",
    "\n",
    "# Simplify variable names\n",
    "df_copy.columns = [x.lower().replace(' ', '_') for x in list(df_copy.columns)]\n",
    "\n",
    "# Remove my ratings (your_stars)\n",
    "df_copy = df_copy.drop('your_stars', 1)\n",
    "df_copy.tail(2)"
   ]
  },
  {
   "cell_type": "markdown",
   "id": "a4d61622",
   "metadata": {},
   "source": [
    "I'll check for null and null replacement values next. Based on the \"Your Stars\" rating from the original frame, it looks like -1 is used as a replacement value."
   ]
  },
  {
   "cell_type": "code",
   "execution_count": 5,
   "id": "08f51d9a",
   "metadata": {},
   "outputs": [
    {
     "name": "stdout",
     "output_type": "stream",
     "text": [
      "avg_stars: 7 rows with -1\n",
      "pitches: 1 rows with -1\n"
     ]
    }
   ],
   "source": [
    "# Loop through columns to find -1\n",
    "for curr_col in list(df_copy.columns):\n",
    "    \n",
    "    search_null = df_copy[df_copy[curr_col] == -1].shape[0]\n",
    "    \n",
    "    if search_null != 0:\n",
    "        print(f'{curr_col}: {search_null} rows with -1' )"
   ]
  },
  {
   "cell_type": "markdown",
   "id": "667510a4",
   "metadata": {},
   "source": [
    "I double checked and did see 7 rows with -1 in \"avg_stars\" and 1 row with -1 in \"pitches.\" It's not possible to have negative stars or pitches, so these must be value substitutes. I'll change these to nulls to not confuse nulls from actual values."
   ]
  },
  {
   "cell_type": "code",
   "execution_count": 6,
   "id": "d5f1d093",
   "metadata": {},
   "outputs": [],
   "source": [
    "# Replace -1 with null\n",
    "df_copy = df_copy.replace(to_replace=-1, value=np.nan)  # np.nan for numerical"
   ]
  },
  {
   "cell_type": "code",
   "execution_count": 7,
   "id": "1a7fd7b6",
   "metadata": {},
   "outputs": [
    {
     "data": {
      "text/plain": [
       "route               0\n",
       "location            0\n",
       "url                 0\n",
       "avg_stars           7\n",
       "route_type          0\n",
       "rating              0\n",
       "pitches             1\n",
       "length            197\n",
       "area_latitude       0\n",
       "area_longitude      0\n",
       "dtype: int64"
      ]
     },
     "execution_count": 7,
     "metadata": {},
     "output_type": "execute_result"
    }
   ],
   "source": [
    "# Count remaining null values d\n",
    "df_copy.isna().sum()"
   ]
  },
  {
   "cell_type": "markdown",
   "id": "490cf45e",
   "metadata": {},
   "source": [
    "In addition to the 8 placeholder values that were changed to nulls, there are 197 missing length values.\n",
    "\n",
    "The next thing I want to do here is to change ratings from objects to floats. All of the climbs are in the 5.0-5.15 range because I'm looking at technical climbing. I'll remove the 5 and turn the string portion of the rating (e.g. a, b, c, d) to numbers.\n",
    "\n",
    "Ratings are full of information. Generally, once the grade is at or above 5.10, the sub-classifications break out into a, b, c, and d. However, there are other climbers who use + and - for sub-classifications. Climbs below 5.10 typically use + and - for sub-classifications. I'll convert alphabetical sub-classifications into a numberical rating in the tenths place. I'll then convert + and - to fall within the tenths numerical ratings.\n",
    "\n",
    "Some routes contain boldering grades (e.g. VX), which will be removed.\n",
    "\n",
    "Protection ratings should be included in the rating if the route is not well bolted. If a protection rating isn't included (e.g. PG/PG13, R), the reader can assume that the route is well bolted (i.e. G)."
   ]
  },
  {
   "cell_type": "code",
   "execution_count": 8,
   "id": "488b7036",
   "metadata": {},
   "outputs": [],
   "source": [
    "# Dictionary for cleaning sub-classifications\n",
    "['', '+', '-', 'a', 'a/b', 'b', 'b/c', 'c', 'c/d', 'd']\n",
    "\n",
    "sub_classification_dict = {\n",
    "    '' : 0,\n",
    "    '+' : 35,\n",
    "    '-' : 15,\n",
    "    'a' : 1,\n",
    "    'a/b' : 15,\n",
    "    'b' : 2,\n",
    "    'b/c' : 25,\n",
    "    'c' : 3,\n",
    "    'c/d' : 35,\n",
    "    'd' : 4\n",
    "}\n",
    "\n",
    "# Dictionary for cleaning protection ratings\n",
    "protection_dict = {\n",
    "    'A0' : 'G',\n",
    "    'G' : 'G',\n",
    "    'PG13' : 'PG13',\n",
    "    'R' : 'R',\n",
    "    'V10' : 'G',\n",
    "    'V6' : 'G',\n",
    "    'V7' : 'G',\n",
    "    'X' : 'G'\n",
    "}"
   ]
  },
  {
   "cell_type": "code",
   "execution_count": 9,
   "id": "21807eea",
   "metadata": {},
   "outputs": [
    {
     "data": {
      "text/html": [
       "<div>\n",
       "<style scoped>\n",
       "    .dataframe tbody tr th:only-of-type {\n",
       "        vertical-align: middle;\n",
       "    }\n",
       "\n",
       "    .dataframe tbody tr th {\n",
       "        vertical-align: top;\n",
       "    }\n",
       "\n",
       "    .dataframe thead th {\n",
       "        text-align: right;\n",
       "    }\n",
       "</style>\n",
       "<table border=\"1\" class=\"dataframe\">\n",
       "  <thead>\n",
       "    <tr style=\"text-align: right;\">\n",
       "      <th></th>\n",
       "      <th>climbing_rating</th>\n",
       "      <th>climbing_rating_main</th>\n",
       "    </tr>\n",
       "  </thead>\n",
       "  <tbody>\n",
       "    <tr>\n",
       "      <th>372</th>\n",
       "      <td>[11b/c]</td>\n",
       "      <td>11</td>\n",
       "    </tr>\n",
       "    <tr>\n",
       "      <th>305</th>\n",
       "      <td>[9]</td>\n",
       "      <td>9</td>\n",
       "    </tr>\n",
       "  </tbody>\n",
       "</table>\n",
       "</div>"
      ],
      "text/plain": [
       "    climbing_rating climbing_rating_main\n",
       "372         [11b/c]                   11\n",
       "305             [9]                    9"
      ]
     },
     "execution_count": 9,
     "metadata": {},
     "output_type": "execute_result"
    }
   ],
   "source": [
    "# Climbing rating transformation\n",
    "# Remove technical climbing int\n",
    "df_copy['climbing_rating'] = df_copy['rating'].apply(\n",
    "    lambda x: x.replace('5.', '').split(' ')\n",
    ")\n",
    "\n",
    "# Get main rating\n",
    "df_copy['climbing_rating_main'] = df_copy['climbing_rating'] \\\n",
    "    .apply(lambda x: re.match(r'(\\d+)', x[0]).group(1))\n",
    "df_copy[['climbing_rating', 'climbing_rating_main']].sample(2)"
   ]
  },
  {
   "cell_type": "code",
   "execution_count": 10,
   "id": "32a42f1b",
   "metadata": {},
   "outputs": [
    {
     "name": "stdout",
     "output_type": "stream",
     "text": [
      "['', '+', '-', 'a', 'a/b', 'b', 'b/c', 'c', 'c/d', 'd']\n"
     ]
    },
    {
     "data": {
      "text/html": [
       "<div>\n",
       "<style scoped>\n",
       "    .dataframe tbody tr th:only-of-type {\n",
       "        vertical-align: middle;\n",
       "    }\n",
       "\n",
       "    .dataframe tbody tr th {\n",
       "        vertical-align: top;\n",
       "    }\n",
       "\n",
       "    .dataframe thead th {\n",
       "        text-align: right;\n",
       "    }\n",
       "</style>\n",
       "<table border=\"1\" class=\"dataframe\">\n",
       "  <thead>\n",
       "    <tr style=\"text-align: right;\">\n",
       "      <th></th>\n",
       "      <th>climbing_rating</th>\n",
       "      <th>climbing_rating_complete</th>\n",
       "    </tr>\n",
       "  </thead>\n",
       "  <tbody>\n",
       "    <tr>\n",
       "      <th>699</th>\n",
       "      <td>[11a]</td>\n",
       "      <td>11.1</td>\n",
       "    </tr>\n",
       "    <tr>\n",
       "      <th>714</th>\n",
       "      <td>[11d]</td>\n",
       "      <td>11.4</td>\n",
       "    </tr>\n",
       "  </tbody>\n",
       "</table>\n",
       "</div>"
      ],
      "text/plain": [
       "    climbing_rating  climbing_rating_complete\n",
       "699           [11a]                      11.1\n",
       "714           [11d]                      11.4"
      ]
     },
     "execution_count": 10,
     "metadata": {},
     "output_type": "execute_result"
    }
   ],
   "source": [
    "# Find sub-classification\n",
    "df_copy['climbing_rating_sub'] = df_copy['climbing_rating'] \\\n",
    "    .apply(lambda x: (re.match(r'\\d+(.*)', x[0]).group(1)))\n",
    "print(sorted(list(set(list(df_copy['climbing_rating_sub'])))))\n",
    "\n",
    "# Clean sub-classification\n",
    "df_copy['climbing_rating_sub_clean'] = df_copy['climbing_rating_sub'] \\\n",
    "    .map(sub_classification_dict)\n",
    "df_copy['climbing_rating_sub_clean'] = df_copy['climbing_rating_sub_clean'].fillna(0)\n",
    "df_copy['climbing_rating_sub_clean'] = df_copy['climbing_rating_sub_clean'].astype(int)\n",
    "df_copy['climbing_rating_complete'] = df_copy \\\n",
    "    .apply(lambda x: float(str(x['climbing_rating_main']) + '.' + str(x['climbing_rating_sub_clean'])), 1)\n",
    "df_copy[['climbing_rating', 'climbing_rating_complete']].sample(2)"
   ]
  },
  {
   "cell_type": "code",
   "execution_count": 11,
   "id": "0bdabb45",
   "metadata": {},
   "outputs": [
    {
     "name": "stdout",
     "output_type": "stream",
     "text": [
      "['A0', 'G', 'PG13', 'R', 'V10', 'V6', 'V7', 'X']\n"
     ]
    },
    {
     "data": {
      "text/html": [
       "<div>\n",
       "<style scoped>\n",
       "    .dataframe tbody tr th:only-of-type {\n",
       "        vertical-align: middle;\n",
       "    }\n",
       "\n",
       "    .dataframe tbody tr th {\n",
       "        vertical-align: top;\n",
       "    }\n",
       "\n",
       "    .dataframe thead th {\n",
       "        text-align: right;\n",
       "    }\n",
       "</style>\n",
       "<table border=\"1\" class=\"dataframe\">\n",
       "  <thead>\n",
       "    <tr style=\"text-align: right;\">\n",
       "      <th></th>\n",
       "      <th>rating</th>\n",
       "      <th>climbing_rating_complete</th>\n",
       "      <th>protection</th>\n",
       "    </tr>\n",
       "  </thead>\n",
       "  <tbody>\n",
       "    <tr>\n",
       "      <th>240</th>\n",
       "      <td>5.12b/c</td>\n",
       "      <td>12.25</td>\n",
       "      <td>G</td>\n",
       "    </tr>\n",
       "    <tr>\n",
       "      <th>178</th>\n",
       "      <td>5.12a</td>\n",
       "      <td>12.10</td>\n",
       "      <td>G</td>\n",
       "    </tr>\n",
       "  </tbody>\n",
       "</table>\n",
       "</div>"
      ],
      "text/plain": [
       "      rating  climbing_rating_complete protection\n",
       "240  5.12b/c                     12.25          G\n",
       "178    5.12a                     12.10          G"
      ]
     },
     "execution_count": 11,
     "metadata": {},
     "output_type": "execute_result"
    }
   ],
   "source": [
    "# Get protection value\n",
    "df_copy['protection'] = df_copy['climbing_rating'] \\\n",
    "    .apply(lambda x: [x[1] if len(x) > 1 else 'G'][0])\n",
    "print(sorted((list(set(list(df_copy['protection']))))))\n",
    "\n",
    "# Clean protection\n",
    "df_copy['protection'] = df_copy['protection'].map(protection_dict)\n",
    "df_copy[['rating', 'climbing_rating_complete', 'protection']].sample(2)"
   ]
  },
  {
   "cell_type": "code",
   "execution_count": 14,
   "id": "2df83107",
   "metadata": {},
   "outputs": [
    {
     "name": "stdout",
     "output_type": "stream",
     "text": [
      "Shape: (945, 16)\n",
      "Climbing ratings: [3.0, 4.0, 5.0, 6.0, 7.0, 7.35, 8.0, 8.15, 8.35, 9.0, 9.15, 9.35, 10.0, 10.1, 10.15, 10.2, 10.25, 10.3, 10.35, 10.4, 11.0, 11.1, 11.15, 11.2, 11.25, 11.3, 11.35, 11.4, 12.0, 12.1, 12.15, 12.2, 12.25, 12.3, 12.35, 12.4, 13.0, 13.1, 13.15, 13.2, 13.25, 13.3, 13.4, 14.1, 14.3]\n",
      "Protection ratings: ['G', 'PG13', 'R']\n"
     ]
    }
   ],
   "source": [
    "# Check work\n",
    "climbing_ratingls = sorted(list(set(list(df_copy['climbing_rating_complete']))))\n",
    "protectionls = sorted(list(set(list(df_copy['protection']))))\n",
    "print('Shape: ' + str(df_copy.shape))\n",
    "print('Climbing ratings: ' + str(climbing_ratingls))\n",
    "print('Protection ratings: ' + str(protectionls))"
   ]
  },
  {
   "cell_type": "markdown",
   "id": "dc215927",
   "metadata": {},
   "source": [
    "Now that the ratings are complete, I'll save the completed frame and move onto the exploration piece."
   ]
  },
  {
   "cell_type": "code",
   "execution_count": 15,
   "id": "8c277aaf",
   "metadata": {},
   "outputs": [
    {
     "data": {
      "text/html": [
       "<div>\n",
       "<style scoped>\n",
       "    .dataframe tbody tr th:only-of-type {\n",
       "        vertical-align: middle;\n",
       "    }\n",
       "\n",
       "    .dataframe tbody tr th {\n",
       "        vertical-align: top;\n",
       "    }\n",
       "\n",
       "    .dataframe thead th {\n",
       "        text-align: right;\n",
       "    }\n",
       "</style>\n",
       "<table border=\"1\" class=\"dataframe\">\n",
       "  <thead>\n",
       "    <tr style=\"text-align: right;\">\n",
       "      <th></th>\n",
       "      <th>route</th>\n",
       "      <th>location</th>\n",
       "      <th>url</th>\n",
       "      <th>avg_stars</th>\n",
       "      <th>route_type</th>\n",
       "      <th>rating</th>\n",
       "      <th>pitches</th>\n",
       "      <th>length</th>\n",
       "      <th>area_latitude</th>\n",
       "      <th>area_longitude</th>\n",
       "      <th>climbing_rating_complete</th>\n",
       "      <th>protection</th>\n",
       "    </tr>\n",
       "  </thead>\n",
       "  <tbody>\n",
       "    <tr>\n",
       "      <th>516</th>\n",
       "      <td>Double Impact</td>\n",
       "      <td>Frisky Cliff &gt; Boulder Canyon &gt; Boulder &gt; Colo...</td>\n",
       "      <td>https://www.mountainproject.com/route/11100117...</td>\n",
       "      <td>2.8</td>\n",
       "      <td>Sport</td>\n",
       "      <td>5.13b</td>\n",
       "      <td>1.0</td>\n",
       "      <td>45.0</td>\n",
       "      <td>39.97727</td>\n",
       "      <td>-105.45706</td>\n",
       "      <td>13.20</td>\n",
       "      <td>G</td>\n",
       "    </tr>\n",
       "    <tr>\n",
       "      <th>50</th>\n",
       "      <td>Wimps</td>\n",
       "      <td>Nip and Tuck &gt; Boulder Canyon &gt; Boulder &gt; Colo...</td>\n",
       "      <td>https://www.mountainproject.com/route/11121692...</td>\n",
       "      <td>1.8</td>\n",
       "      <td>Sport</td>\n",
       "      <td>5.8+</td>\n",
       "      <td>1.0</td>\n",
       "      <td>45.0</td>\n",
       "      <td>39.98709</td>\n",
       "      <td>-105.43728</td>\n",
       "      <td>8.35</td>\n",
       "      <td>G</td>\n",
       "    </tr>\n",
       "  </tbody>\n",
       "</table>\n",
       "</div>"
      ],
      "text/plain": [
       "             route                                           location  \\\n",
       "516  Double Impact  Frisky Cliff > Boulder Canyon > Boulder > Colo...   \n",
       "50           Wimps  Nip and Tuck > Boulder Canyon > Boulder > Colo...   \n",
       "\n",
       "                                                   url  avg_stars route_type  \\\n",
       "516  https://www.mountainproject.com/route/11100117...        2.8      Sport   \n",
       "50   https://www.mountainproject.com/route/11121692...        1.8      Sport   \n",
       "\n",
       "    rating  pitches  length  area_latitude  area_longitude  \\\n",
       "516  5.13b      1.0    45.0       39.97727      -105.45706   \n",
       "50    5.8+      1.0    45.0       39.98709      -105.43728   \n",
       "\n",
       "     climbing_rating_complete protection  \n",
       "516                     13.20          G  \n",
       "50                       8.35          G  "
      ]
     },
     "execution_count": 15,
     "metadata": {},
     "output_type": "execute_result"
    }
   ],
   "source": [
    "# Save frame\n",
    "drop_colls = ['climbing_rating', 'climbing_rating_main',\n",
    "              'climbing_rating_sub', 'climbing_rating_sub_clean']\n",
    "df_save = df_copy.drop(drop_colls, 1)\n",
    "df_save.to_csv(data_dir + '/df_clean.csv', index=False)\n",
    "df_save.sample(2)"
   ]
  }
 ],
 "metadata": {
  "kernelspec": {
   "display_name": "Python 3",
   "language": "python",
   "name": "python3"
  },
  "language_info": {
   "codemirror_mode": {
    "name": "ipython",
    "version": 3
   },
   "file_extension": ".py",
   "mimetype": "text/x-python",
   "name": "python",
   "nbconvert_exporter": "python",
   "pygments_lexer": "ipython3",
   "version": "3.9.5"
  }
 },
 "nbformat": 4,
 "nbformat_minor": 5
}
