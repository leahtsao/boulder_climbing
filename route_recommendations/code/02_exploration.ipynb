{
 "cells": [
  {
   "cell_type": "markdown",
   "id": "7fc157e2",
   "metadata": {},
   "source": [
    "# Exploration\n",
    "\n",
    "Now that the dataset is clean, I'm ready for more exploration."
   ]
  },
  {
   "cell_type": "code",
   "execution_count": 1,
   "id": "21a306aa",
   "metadata": {},
   "outputs": [],
   "source": [
    "# Import modules\n",
    "import os, sys, re\n",
    "import numpy as np\n",
    "import pandas as pd\n",
    "import seaborn as sns\n",
    "import matplotlib.pyplot as plt\n",
    "\n",
    "# Get path\n",
    "data_dir = os.path.realpath('../data/')"
   ]
  },
  {
   "cell_type": "markdown",
   "id": "aee2bd2b",
   "metadata": {},
   "source": [
    "### Analytics\n",
    "\n",
    "To get a better feel for the data I'm working with, I'll answer the following questions:\n",
    "- What rope length do you need to climb the vast majority of the routes?\n",
    "- Are most climbs multipitch?\n",
    "- What's the breakout of grades in BC?\n",
    "    - Bulk\n",
    "    - By location\n",
    "    - By route type\n",
    "    - By protection\n",
    "    - By rating\n",
    "    - By grade"
   ]
  },
  {
   "cell_type": "code",
   "execution_count": 8,
   "id": "9a6f140e",
   "metadata": {},
   "outputs": [
    {
     "data": {
      "text/html": [
       "<div>\n",
       "<style scoped>\n",
       "    .dataframe tbody tr th:only-of-type {\n",
       "        vertical-align: middle;\n",
       "    }\n",
       "\n",
       "    .dataframe tbody tr th {\n",
       "        vertical-align: top;\n",
       "    }\n",
       "\n",
       "    .dataframe thead th {\n",
       "        text-align: right;\n",
       "    }\n",
       "</style>\n",
       "<table border=\"1\" class=\"dataframe\">\n",
       "  <thead>\n",
       "    <tr style=\"text-align: right;\">\n",
       "      <th></th>\n",
       "      <th>route</th>\n",
       "      <th>location</th>\n",
       "      <th>url</th>\n",
       "      <th>avg_stars</th>\n",
       "      <th>route_type</th>\n",
       "      <th>rating</th>\n",
       "      <th>pitches</th>\n",
       "      <th>length</th>\n",
       "      <th>area_latitude</th>\n",
       "      <th>area_longitude</th>\n",
       "      <th>climbing_rating_complete</th>\n",
       "      <th>protection</th>\n",
       "    </tr>\n",
       "  </thead>\n",
       "  <tbody>\n",
       "    <tr>\n",
       "      <th>943</th>\n",
       "      <td>Serps Up</td>\n",
       "      <td>Serpent's Den &gt; Boulder Canyon &gt; Boulder &gt; Col...</td>\n",
       "      <td>https://www.mountainproject.com/route/12226557...</td>\n",
       "      <td>3.0</td>\n",
       "      <td>Sport</td>\n",
       "      <td>5.13b</td>\n",
       "      <td>1.0</td>\n",
       "      <td>25.0</td>\n",
       "      <td>40.00239</td>\n",
       "      <td>-105.41014</td>\n",
       "      <td>13.2</td>\n",
       "      <td>G</td>\n",
       "    </tr>\n",
       "    <tr>\n",
       "      <th>944</th>\n",
       "      <td>Aqueduct</td>\n",
       "      <td>Aqueduct Outcrop &gt; Boulder Canyon &gt; Boulder &gt; ...</td>\n",
       "      <td>https://www.mountainproject.com/route/12246443...</td>\n",
       "      <td>2.0</td>\n",
       "      <td>Sport</td>\n",
       "      <td>5.12a</td>\n",
       "      <td>1.0</td>\n",
       "      <td>50.0</td>\n",
       "      <td>39.97527</td>\n",
       "      <td>-105.46080</td>\n",
       "      <td>12.1</td>\n",
       "      <td>G</td>\n",
       "    </tr>\n",
       "  </tbody>\n",
       "</table>\n",
       "</div>"
      ],
      "text/plain": [
       "        route                                           location  \\\n",
       "943  Serps Up  Serpent's Den > Boulder Canyon > Boulder > Col...   \n",
       "944  Aqueduct  Aqueduct Outcrop > Boulder Canyon > Boulder > ...   \n",
       "\n",
       "                                                   url  avg_stars route_type  \\\n",
       "943  https://www.mountainproject.com/route/12226557...        3.0      Sport   \n",
       "944  https://www.mountainproject.com/route/12246443...        2.0      Sport   \n",
       "\n",
       "    rating  pitches  length  area_latitude  area_longitude  \\\n",
       "943  5.13b      1.0    25.0       40.00239      -105.41014   \n",
       "944  5.12a      1.0    50.0       39.97527      -105.46080   \n",
       "\n",
       "     climbing_rating_complete protection  \n",
       "943                      13.2          G  \n",
       "944                      12.1          G  "
      ]
     },
     "execution_count": 8,
     "metadata": {},
     "output_type": "execute_result"
    }
   ],
   "source": [
    "# Read frame\n",
    "df = pd.read_csv(data_dir + '/df_clean.csv', header=0, sep=',')\n",
    "df_columnls = list(df.columns)\n",
    "df.tail(2)"
   ]
  },
  {
   "cell_type": "markdown",
   "id": "04aa615e",
   "metadata": {},
   "source": [
    "The length listed above is the length of the climb in feet. To get rope length, I'll need to multiple by 2 and convert to meters (climbing rope length is most commonly referred to in meters)."
   ]
  },
  {
   "cell_type": "code",
   "execution_count": 15,
   "id": "3a86b044",
   "metadata": {},
   "outputs": [],
   "source": [
    "# Add rope length\n",
    "df['rope_length'] = df['length'] * 2 / 3.28"
   ]
  },
  {
   "cell_type": "code",
   "execution_count": 16,
   "id": "7b60656f",
   "metadata": {},
   "outputs": [
    {
     "data": {
      "text/plain": [
       "route                         0\n",
       "location                      0\n",
       "url                           0\n",
       "avg_stars                     7\n",
       "route_type                    0\n",
       "rating                        0\n",
       "pitches                       1\n",
       "length                      197\n",
       "area_latitude                 0\n",
       "area_longitude                0\n",
       "climbing_rating_complete      0\n",
       "protection                    0\n",
       "rope_length                 197\n",
       "dtype: int64"
      ]
     },
     "execution_count": 16,
     "metadata": {},
     "output_type": "execute_result"
    }
   ],
   "source": [
    "# Count nulls\n",
    "df.isna().sum()"
   ]
  },
  {
   "cell_type": "markdown",
   "id": "14fee660",
   "metadata": {},
   "source": [
    "Most of the variables are complete. There is 1 missing entry for \"pitches,\" 7 missing entries for \"avg_stars,\" and 197 missing entries for length. This means that all of the variables can be used, but since ~20% of the length entries are missing, that will be the least reliable variable."
   ]
  },
  {
   "cell_type": "code",
   "execution_count": 17,
   "id": "c4d0524c",
   "metadata": {},
   "outputs": [
    {
     "data": {
      "text/html": [
       "<div>\n",
       "<style scoped>\n",
       "    .dataframe tbody tr th:only-of-type {\n",
       "        vertical-align: middle;\n",
       "    }\n",
       "\n",
       "    .dataframe tbody tr th {\n",
       "        vertical-align: top;\n",
       "    }\n",
       "\n",
       "    .dataframe thead th {\n",
       "        text-align: right;\n",
       "    }\n",
       "</style>\n",
       "<table border=\"1\" class=\"dataframe\">\n",
       "  <thead>\n",
       "    <tr style=\"text-align: right;\">\n",
       "      <th></th>\n",
       "      <th>avg_stars</th>\n",
       "      <th>pitches</th>\n",
       "      <th>length</th>\n",
       "      <th>area_latitude</th>\n",
       "      <th>area_longitude</th>\n",
       "      <th>climbing_rating_complete</th>\n",
       "      <th>rope_length</th>\n",
       "    </tr>\n",
       "  </thead>\n",
       "  <tbody>\n",
       "    <tr>\n",
       "      <th>count</th>\n",
       "      <td>938.000000</td>\n",
       "      <td>944.000000</td>\n",
       "      <td>748.000000</td>\n",
       "      <td>945.000000</td>\n",
       "      <td>945.000000</td>\n",
       "      <td>945.000000</td>\n",
       "      <td>748.000000</td>\n",
       "    </tr>\n",
       "    <tr>\n",
       "      <th>mean</th>\n",
       "      <td>2.149893</td>\n",
       "      <td>1.090042</td>\n",
       "      <td>72.462567</td>\n",
       "      <td>39.996613</td>\n",
       "      <td>-105.415008</td>\n",
       "      <td>10.870053</td>\n",
       "      <td>44.184492</td>\n",
       "    </tr>\n",
       "    <tr>\n",
       "      <th>std</th>\n",
       "      <td>0.667579</td>\n",
       "      <td>0.364586</td>\n",
       "      <td>38.805145</td>\n",
       "      <td>0.010475</td>\n",
       "      <td>0.023808</td>\n",
       "      <td>1.488573</td>\n",
       "      <td>23.661674</td>\n",
       "    </tr>\n",
       "    <tr>\n",
       "      <th>min</th>\n",
       "      <td>0.000000</td>\n",
       "      <td>1.000000</td>\n",
       "      <td>18.000000</td>\n",
       "      <td>39.972070</td>\n",
       "      <td>-105.464800</td>\n",
       "      <td>3.000000</td>\n",
       "      <td>10.975610</td>\n",
       "    </tr>\n",
       "    <tr>\n",
       "      <th>25%</th>\n",
       "      <td>1.700000</td>\n",
       "      <td>1.000000</td>\n",
       "      <td>50.000000</td>\n",
       "      <td>39.993700</td>\n",
       "      <td>-105.418100</td>\n",
       "      <td>10.150000</td>\n",
       "      <td>30.487805</td>\n",
       "    </tr>\n",
       "    <tr>\n",
       "      <th>50%</th>\n",
       "      <td>2.000000</td>\n",
       "      <td>1.000000</td>\n",
       "      <td>65.000000</td>\n",
       "      <td>40.000100</td>\n",
       "      <td>-105.412400</td>\n",
       "      <td>11.150000</td>\n",
       "      <td>39.634146</td>\n",
       "    </tr>\n",
       "    <tr>\n",
       "      <th>75%</th>\n",
       "      <td>2.600000</td>\n",
       "      <td>1.000000</td>\n",
       "      <td>85.000000</td>\n",
       "      <td>40.003500</td>\n",
       "      <td>-105.397400</td>\n",
       "      <td>12.100000</td>\n",
       "      <td>51.829268</td>\n",
       "    </tr>\n",
       "    <tr>\n",
       "      <th>max</th>\n",
       "      <td>4.000000</td>\n",
       "      <td>4.000000</td>\n",
       "      <td>370.000000</td>\n",
       "      <td>40.013700</td>\n",
       "      <td>-105.313300</td>\n",
       "      <td>14.300000</td>\n",
       "      <td>225.609756</td>\n",
       "    </tr>\n",
       "  </tbody>\n",
       "</table>\n",
       "</div>"
      ],
      "text/plain": [
       "        avg_stars     pitches      length  area_latitude  area_longitude  \\\n",
       "count  938.000000  944.000000  748.000000     945.000000      945.000000   \n",
       "mean     2.149893    1.090042   72.462567      39.996613     -105.415008   \n",
       "std      0.667579    0.364586   38.805145       0.010475        0.023808   \n",
       "min      0.000000    1.000000   18.000000      39.972070     -105.464800   \n",
       "25%      1.700000    1.000000   50.000000      39.993700     -105.418100   \n",
       "50%      2.000000    1.000000   65.000000      40.000100     -105.412400   \n",
       "75%      2.600000    1.000000   85.000000      40.003500     -105.397400   \n",
       "max      4.000000    4.000000  370.000000      40.013700     -105.313300   \n",
       "\n",
       "       climbing_rating_complete  rope_length  \n",
       "count                945.000000   748.000000  \n",
       "mean                  10.870053    44.184492  \n",
       "std                    1.488573    23.661674  \n",
       "min                    3.000000    10.975610  \n",
       "25%                   10.150000    30.487805  \n",
       "50%                   11.150000    39.634146  \n",
       "75%                   12.100000    51.829268  \n",
       "max                   14.300000   225.609756  "
      ]
     },
     "execution_count": 17,
     "metadata": {},
     "output_type": "execute_result"
    }
   ],
   "source": [
    "# Describe frame\n",
    "df.describe()"
   ]
  },
  {
   "cell_type": "markdown",
   "id": "46013ef2",
   "metadata": {},
   "source": [
    "Take aways from this summary:\n",
    "- Avg_stars: most of the climbs have at least one star, which is good. The median grade is 2.0.\n",
    "- Pitches: the vast majority (> 75%) of the climbs in this dataset are single pitch.\n",
    "- Length (in feet): a 60m rope will allow you to climb more than 75% of the routes in BC (keep in mind this variable is ~80% complete).\n",
    "- Climbing grades: the climbs in this dataset are mostly intermediate to hard! An intermediate climber (around 5.10) will be able to climb about 25% of the routes, but most of the routes are for advanced climbers (around 5.11 and higher).\n",
    "\n",
    "I'll look into the climbing grades in more detail next."
   ]
  },
  {
   "cell_type": "code",
   "execution_count": 21,
   "id": "d57896a8",
   "metadata": {},
   "outputs": [
    {
     "data": {
      "image/png": "[encoded data removed]",
      "text/plain": [
       "<Figure size 432x288 with 1 Axes>"
      ]
     },
     "metadata": {
      "needs_background": "light"
     },
     "output_type": "display_data"
    }
   ],
   "source": [
    "# Bulk breakout\n",
    "plot = plt.figure()\n",
    "ax1 = plot.add_subplot(111)\n",
    "sns.histplot(data=df, x='climbing_rating_complete', ax=ax1)\n",
    "ax1.set_title('Boulder Canyon Climbing Grades \\n Trad, Sport, and Top Rope')\n",
    "plt.show()\n",
    "plt.close()"
   ]
  },
  {
   "cell_type": "markdown",
   "id": "a12ceaac",
   "metadata": {},
   "source": [
    "TODO: encode location, protection, route type for more analytics`"
   ]
  }
 ],
 "metadata": {
  "kernelspec": {
   "display_name": "Python 3",
   "language": "python",
   "name": "python3"
  },
  "language_info": {
   "codemirror_mode": {
    "name": "ipython",
    "version": 3
   },
   "file_extension": ".py",
   "mimetype": "text/x-python",
   "name": "python",
   "nbconvert_exporter": "python",
   "pygments_lexer": "ipython3",
   "version": "3.9.5"
  }
 },
 "nbformat": 4,
 "nbformat_minor": 5
}
